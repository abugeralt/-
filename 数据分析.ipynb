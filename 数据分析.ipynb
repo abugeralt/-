{
 "cells": [
  {
   "cell_type": "code",
   "execution_count": 1,
   "metadata": {},
   "outputs": [],
   "source": [
    "import pandas as pd\n",
    "import numpy as np\n",
    "#设置画图风格与图片中文字体\n",
    "from matplotlib import pyplot as plt\n",
    "plt.style.use(\"ggplot\")\n",
    "plt.rcParams['font.sans-serif'] = ['SimHei']\n",
    "plt.rcParams['axes.unicode_minus'] = False\n",
    "#显示所有列\n",
    "pd.set_option('display.max_columns', None)\n",
    "#显示所有行\n",
    "pd.set_option('display.max_rows', None)\n",
    "#设置value的显示长度为100，默认为50\n",
    "pd.set_option('max_colwidth',100)"
   ]
  },
  {
   "cell_type": "markdown",
   "metadata": {},
   "source": [
    "# 导入数据与描述统计"
   ]
  },
  {
   "cell_type": "code",
   "execution_count": 2,
   "metadata": {},
   "outputs": [],
   "source": [
    "data=pd.read_csv(\"data.csv\")\n",
    "#一般有两种编码模式，默认为utf-8,也可以用gbk\n",
    "data=pd.read_csv(\"data.csv\",encoding=\"utf-8\")"
   ]
  },
  {
   "cell_type": "code",
   "execution_count": 3,
   "metadata": {},
   "outputs": [
    {
     "data": {
      "text/plain": [
       "(18, 7)"
      ]
     },
     "execution_count": 3,
     "metadata": {},
     "output_type": "execute_result"
    }
   ],
   "source": [
    "data.shape"
   ]
  },
  {
   "cell_type": "code",
   "execution_count": 4,
   "metadata": {
    "scrolled": true
   },
   "outputs": [
    {
     "data": {
      "text/html": [
       "<div>\n",
       "<style scoped>\n",
       "    .dataframe tbody tr th:only-of-type {\n",
       "        vertical-align: middle;\n",
       "    }\n",
       "\n",
       "    .dataframe tbody tr th {\n",
       "        vertical-align: top;\n",
       "    }\n",
       "\n",
       "    .dataframe thead th {\n",
       "        text-align: right;\n",
       "    }\n",
       "</style>\n",
       "<table border=\"1\" class=\"dataframe\">\n",
       "  <thead>\n",
       "    <tr style=\"text-align: right;\">\n",
       "      <th></th>\n",
       "      <th>年份</th>\n",
       "      <th>通过与否</th>\n",
       "      <th>分类</th>\n",
       "      <th>分类2</th>\n",
       "      <th>年龄</th>\n",
       "      <th>储蓄</th>\n",
       "      <th>KEY</th>\n",
       "    </tr>\n",
       "  </thead>\n",
       "  <tbody>\n",
       "    <tr>\n",
       "      <td>0</td>\n",
       "      <td>2019.0</td>\n",
       "      <td>未通过</td>\n",
       "      <td>A</td>\n",
       "      <td>A</td>\n",
       "      <td>6.0</td>\n",
       "      <td>1500.00</td>\n",
       "      <td>123</td>\n",
       "    </tr>\n",
       "    <tr>\n",
       "      <td>1</td>\n",
       "      <td>2017.0</td>\n",
       "      <td>未通过</td>\n",
       "      <td>A</td>\n",
       "      <td>NaN</td>\n",
       "      <td>3.0</td>\n",
       "      <td>NaN</td>\n",
       "      <td>123</td>\n",
       "    </tr>\n",
       "    <tr>\n",
       "      <td>2</td>\n",
       "      <td>2019.0</td>\n",
       "      <td>未通过</td>\n",
       "      <td>A</td>\n",
       "      <td>A</td>\n",
       "      <td>17.0</td>\n",
       "      <td>1150.00</td>\n",
       "      <td>124</td>\n",
       "    </tr>\n",
       "    <tr>\n",
       "      <td>3</td>\n",
       "      <td>2018.0</td>\n",
       "      <td>未通过</td>\n",
       "      <td>NaN</td>\n",
       "      <td>A</td>\n",
       "      <td>5.0</td>\n",
       "      <td>222.22</td>\n",
       "      <td>124</td>\n",
       "    </tr>\n",
       "    <tr>\n",
       "      <td>4</td>\n",
       "      <td>2017.0</td>\n",
       "      <td>未通过</td>\n",
       "      <td>B</td>\n",
       "      <td>A</td>\n",
       "      <td>14.0</td>\n",
       "      <td>534.40</td>\n",
       "      <td>567</td>\n",
       "    </tr>\n",
       "  </tbody>\n",
       "</table>\n",
       "</div>"
      ],
      "text/plain": [
       "       年份 通过与否   分类  分类2    年龄       储蓄  KEY\n",
       "0  2019.0  未通过    A    A   6.0  1500.00  123\n",
       "1  2017.0  未通过    A  NaN   3.0      NaN  123\n",
       "2  2019.0  未通过    A    A  17.0  1150.00  124\n",
       "3  2018.0  未通过  NaN    A   5.0   222.22  124\n",
       "4  2017.0  未通过    B    A  14.0   534.40  567"
      ]
     },
     "execution_count": 4,
     "metadata": {},
     "output_type": "execute_result"
    }
   ],
   "source": [
    "data.head()"
   ]
  },
  {
   "cell_type": "code",
   "execution_count": 5,
   "metadata": {},
   "outputs": [
    {
     "data": {
      "text/html": [
       "<div>\n",
       "<style scoped>\n",
       "    .dataframe tbody tr th:only-of-type {\n",
       "        vertical-align: middle;\n",
       "    }\n",
       "\n",
       "    .dataframe tbody tr th {\n",
       "        vertical-align: top;\n",
       "    }\n",
       "\n",
       "    .dataframe thead th {\n",
       "        text-align: right;\n",
       "    }\n",
       "</style>\n",
       "<table border=\"1\" class=\"dataframe\">\n",
       "  <thead>\n",
       "    <tr style=\"text-align: right;\">\n",
       "      <th></th>\n",
       "      <th>通过与否</th>\n",
       "    </tr>\n",
       "    <tr>\n",
       "      <th>年份</th>\n",
       "      <th></th>\n",
       "    </tr>\n",
       "  </thead>\n",
       "  <tbody>\n",
       "    <tr>\n",
       "      <td>2016.0</td>\n",
       "      <td>2</td>\n",
       "    </tr>\n",
       "    <tr>\n",
       "      <td>2017.0</td>\n",
       "      <td>3</td>\n",
       "    </tr>\n",
       "    <tr>\n",
       "      <td>2018.0</td>\n",
       "      <td>2</td>\n",
       "    </tr>\n",
       "    <tr>\n",
       "      <td>2019.0</td>\n",
       "      <td>9</td>\n",
       "    </tr>\n",
       "  </tbody>\n",
       "</table>\n",
       "</div>"
      ],
      "text/plain": [
       "        通过与否\n",
       "年份          \n",
       "2016.0     2\n",
       "2017.0     3\n",
       "2018.0     2\n",
       "2019.0     9"
      ]
     },
     "execution_count": 5,
     "metadata": {},
     "output_type": "execute_result"
    }
   ],
   "source": [
    "#groupby\n",
    "data[[\"年份\",\"通过与否\"]].groupby(\"年份\").count()\n",
    "#这里也可以将count()改成你想要的函数，比如sum、median"
   ]
  },
  {
   "cell_type": "code",
   "execution_count": 6,
   "metadata": {
    "scrolled": true
   },
   "outputs": [
    {
     "data": {
      "text/html": [
       "<div>\n",
       "<style scoped>\n",
       "    .dataframe tbody tr th:only-of-type {\n",
       "        vertical-align: middle;\n",
       "    }\n",
       "\n",
       "    .dataframe tbody tr th {\n",
       "        vertical-align: top;\n",
       "    }\n",
       "\n",
       "    .dataframe thead th {\n",
       "        text-align: right;\n",
       "    }\n",
       "</style>\n",
       "<table border=\"1\" class=\"dataframe\">\n",
       "  <thead>\n",
       "    <tr style=\"text-align: right;\">\n",
       "      <th>年份</th>\n",
       "      <th>2016.0</th>\n",
       "      <th>2017.0</th>\n",
       "      <th>2018.0</th>\n",
       "      <th>2019.0</th>\n",
       "    </tr>\n",
       "  </thead>\n",
       "  <tbody>\n",
       "    <tr>\n",
       "      <td>通过与否</td>\n",
       "      <td>2</td>\n",
       "      <td>3</td>\n",
       "      <td>2</td>\n",
       "      <td>9</td>\n",
       "    </tr>\n",
       "  </tbody>\n",
       "</table>\n",
       "</div>"
      ],
      "text/plain": [
       "年份    2016.0  2017.0  2018.0  2019.0\n",
       "通过与否       2       3       2       9"
      ]
     },
     "execution_count": 6,
     "metadata": {},
     "output_type": "execute_result"
    }
   ],
   "source": [
    "data[[\"年份\",\"通过与否\"]].groupby(\"年份\").count().T"
   ]
  },
  {
   "cell_type": "code",
   "execution_count": 7,
   "metadata": {
    "scrolled": true
   },
   "outputs": [
    {
     "data": {
      "text/html": [
       "<div>\n",
       "<style scoped>\n",
       "    .dataframe tbody tr th:only-of-type {\n",
       "        vertical-align: middle;\n",
       "    }\n",
       "\n",
       "    .dataframe tbody tr th {\n",
       "        vertical-align: top;\n",
       "    }\n",
       "\n",
       "    .dataframe thead th {\n",
       "        text-align: right;\n",
       "    }\n",
       "</style>\n",
       "<table border=\"1\" class=\"dataframe\">\n",
       "  <thead>\n",
       "    <tr style=\"text-align: right;\">\n",
       "      <th></th>\n",
       "      <th>年份</th>\n",
       "      <th>年龄</th>\n",
       "      <th>储蓄</th>\n",
       "      <th>KEY</th>\n",
       "    </tr>\n",
       "  </thead>\n",
       "  <tbody>\n",
       "    <tr>\n",
       "      <td>count</td>\n",
       "      <td>17.000000</td>\n",
       "      <td>17.0</td>\n",
       "      <td>14.000000</td>\n",
       "      <td>18.000000</td>\n",
       "    </tr>\n",
       "    <tr>\n",
       "      <td>mean</td>\n",
       "      <td>2018.176471</td>\n",
       "      <td>11.0</td>\n",
       "      <td>1942.401429</td>\n",
       "      <td>353.277778</td>\n",
       "    </tr>\n",
       "    <tr>\n",
       "      <td>std</td>\n",
       "      <td>1.131111</td>\n",
       "      <td>5.5</td>\n",
       "      <td>1587.257135</td>\n",
       "      <td>261.481707</td>\n",
       "    </tr>\n",
       "    <tr>\n",
       "      <td>min</td>\n",
       "      <td>2016.000000</td>\n",
       "      <td>3.0</td>\n",
       "      <td>222.220000</td>\n",
       "      <td>123.000000</td>\n",
       "    </tr>\n",
       "    <tr>\n",
       "      <td>25%</td>\n",
       "      <td>2017.000000</td>\n",
       "      <td>6.0</td>\n",
       "      <td>1000.000000</td>\n",
       "      <td>123.250000</td>\n",
       "    </tr>\n",
       "    <tr>\n",
       "      <td>50%</td>\n",
       "      <td>2019.000000</td>\n",
       "      <td>10.0</td>\n",
       "      <td>1375.000000</td>\n",
       "      <td>240.000000</td>\n",
       "    </tr>\n",
       "    <tr>\n",
       "      <td>75%</td>\n",
       "      <td>2019.000000</td>\n",
       "      <td>14.0</td>\n",
       "      <td>2850.000000</td>\n",
       "      <td>561.750000</td>\n",
       "    </tr>\n",
       "    <tr>\n",
       "      <td>max</td>\n",
       "      <td>2019.000000</td>\n",
       "      <td>21.0</td>\n",
       "      <td>5000.000000</td>\n",
       "      <td>879.000000</td>\n",
       "    </tr>\n",
       "  </tbody>\n",
       "</table>\n",
       "</div>"
      ],
      "text/plain": [
       "                年份    年龄           储蓄         KEY\n",
       "count    17.000000  17.0    14.000000   18.000000\n",
       "mean   2018.176471  11.0  1942.401429  353.277778\n",
       "std       1.131111   5.5  1587.257135  261.481707\n",
       "min    2016.000000   3.0   222.220000  123.000000\n",
       "25%    2017.000000   6.0  1000.000000  123.250000\n",
       "50%    2019.000000  10.0  1375.000000  240.000000\n",
       "75%    2019.000000  14.0  2850.000000  561.750000\n",
       "max    2019.000000  21.0  5000.000000  879.000000"
      ]
     },
     "execution_count": 7,
     "metadata": {},
     "output_type": "execute_result"
    }
   ],
   "source": [
    "data.describe()\n",
    "#同样也可以用.T进行转置操作"
   ]
  },
  {
   "cell_type": "markdown",
   "metadata": {},
   "source": [
    "# 数据清洗"
   ]
  },
  {
   "cell_type": "code",
   "execution_count": 8,
   "metadata": {},
   "outputs": [],
   "source": [
    "#删除空值太多的行（这里是每行空值大于等于2个）\n",
    "isdrop=[]\n",
    "for index,row in data.iterrows():\n",
    "    if row.isna().sum()>=2:\n",
    "        isdrop.append(1)\n",
    "    else:\n",
    "        isdrop.append(0)\n",
    "data.insert(loc=0,column=\"isdrop\",value=pd.array(isdrop))"
   ]
  },
  {
   "cell_type": "code",
   "execution_count": 9,
   "metadata": {
    "scrolled": false
   },
   "outputs": [
    {
     "data": {
      "text/html": [
       "<div>\n",
       "<style scoped>\n",
       "    .dataframe tbody tr th:only-of-type {\n",
       "        vertical-align: middle;\n",
       "    }\n",
       "\n",
       "    .dataframe tbody tr th {\n",
       "        vertical-align: top;\n",
       "    }\n",
       "\n",
       "    .dataframe thead th {\n",
       "        text-align: right;\n",
       "    }\n",
       "</style>\n",
       "<table border=\"1\" class=\"dataframe\">\n",
       "  <thead>\n",
       "    <tr style=\"text-align: right;\">\n",
       "      <th></th>\n",
       "      <th>isdrop</th>\n",
       "      <th>年份</th>\n",
       "      <th>通过与否</th>\n",
       "      <th>分类</th>\n",
       "      <th>分类2</th>\n",
       "      <th>年龄</th>\n",
       "      <th>储蓄</th>\n",
       "      <th>KEY</th>\n",
       "    </tr>\n",
       "  </thead>\n",
       "  <tbody>\n",
       "    <tr>\n",
       "      <td>0</td>\n",
       "      <td>0</td>\n",
       "      <td>2019.0</td>\n",
       "      <td>未通过</td>\n",
       "      <td>A</td>\n",
       "      <td>A</td>\n",
       "      <td>6.0</td>\n",
       "      <td>1500.00</td>\n",
       "      <td>123</td>\n",
       "    </tr>\n",
       "    <tr>\n",
       "      <td>1</td>\n",
       "      <td>1</td>\n",
       "      <td>2017.0</td>\n",
       "      <td>未通过</td>\n",
       "      <td>A</td>\n",
       "      <td>NaN</td>\n",
       "      <td>3.0</td>\n",
       "      <td>NaN</td>\n",
       "      <td>123</td>\n",
       "    </tr>\n",
       "    <tr>\n",
       "      <td>2</td>\n",
       "      <td>0</td>\n",
       "      <td>2019.0</td>\n",
       "      <td>未通过</td>\n",
       "      <td>A</td>\n",
       "      <td>A</td>\n",
       "      <td>17.0</td>\n",
       "      <td>1150.00</td>\n",
       "      <td>124</td>\n",
       "    </tr>\n",
       "    <tr>\n",
       "      <td>3</td>\n",
       "      <td>0</td>\n",
       "      <td>2018.0</td>\n",
       "      <td>未通过</td>\n",
       "      <td>NaN</td>\n",
       "      <td>A</td>\n",
       "      <td>5.0</td>\n",
       "      <td>222.22</td>\n",
       "      <td>124</td>\n",
       "    </tr>\n",
       "    <tr>\n",
       "      <td>4</td>\n",
       "      <td>0</td>\n",
       "      <td>2017.0</td>\n",
       "      <td>未通过</td>\n",
       "      <td>B</td>\n",
       "      <td>A</td>\n",
       "      <td>14.0</td>\n",
       "      <td>534.40</td>\n",
       "      <td>567</td>\n",
       "    </tr>\n",
       "  </tbody>\n",
       "</table>\n",
       "</div>"
      ],
      "text/plain": [
       "   isdrop      年份 通过与否   分类  分类2    年龄       储蓄  KEY\n",
       "0       0  2019.0  未通过    A    A   6.0  1500.00  123\n",
       "1       1  2017.0  未通过    A  NaN   3.0      NaN  123\n",
       "2       0  2019.0  未通过    A    A  17.0  1150.00  124\n",
       "3       0  2018.0  未通过  NaN    A   5.0   222.22  124\n",
       "4       0  2017.0  未通过    B    A  14.0   534.40  567"
      ]
     },
     "execution_count": 9,
     "metadata": {},
     "output_type": "execute_result"
    }
   ],
   "source": [
    "#通过选择isdrop为0的行，就可以提取对应空值少的数据。\n",
    "data.head()"
   ]
  },
  {
   "cell_type": "code",
   "execution_count": 74,
   "metadata": {
    "scrolled": true
   },
   "outputs": [
    {
     "data": {
      "text/html": [
       "<div>\n",
       "<style scoped>\n",
       "    .dataframe tbody tr th:only-of-type {\n",
       "        vertical-align: middle;\n",
       "    }\n",
       "\n",
       "    .dataframe tbody tr th {\n",
       "        vertical-align: top;\n",
       "    }\n",
       "\n",
       "    .dataframe thead th {\n",
       "        text-align: right;\n",
       "    }\n",
       "</style>\n",
       "<table border=\"1\" class=\"dataframe\">\n",
       "  <thead>\n",
       "    <tr style=\"text-align: right;\">\n",
       "      <th></th>\n",
       "      <th>isdrop</th>\n",
       "      <th>年份</th>\n",
       "      <th>通过与否</th>\n",
       "      <th>分类</th>\n",
       "      <th>分类2</th>\n",
       "      <th>年龄</th>\n",
       "      <th>储蓄</th>\n",
       "      <th>KEY</th>\n",
       "    </tr>\n",
       "  </thead>\n",
       "  <tbody>\n",
       "    <tr>\n",
       "      <th>0</th>\n",
       "      <td>0</td>\n",
       "      <td>2019.0</td>\n",
       "      <td>未通过</td>\n",
       "      <td>A</td>\n",
       "      <td>A</td>\n",
       "      <td>6.0</td>\n",
       "      <td>1500.0</td>\n",
       "      <td>123</td>\n",
       "    </tr>\n",
       "    <tr>\n",
       "      <th>2</th>\n",
       "      <td>0</td>\n",
       "      <td>2019.0</td>\n",
       "      <td>未通过</td>\n",
       "      <td>A</td>\n",
       "      <td>A</td>\n",
       "      <td>17.0</td>\n",
       "      <td>1150.0</td>\n",
       "      <td>124</td>\n",
       "    </tr>\n",
       "    <tr>\n",
       "      <th>4</th>\n",
       "      <td>0</td>\n",
       "      <td>2017.0</td>\n",
       "      <td>未通过</td>\n",
       "      <td>B</td>\n",
       "      <td>A</td>\n",
       "      <td>14.0</td>\n",
       "      <td>534.4</td>\n",
       "      <td>567</td>\n",
       "    </tr>\n",
       "    <tr>\n",
       "      <th>5</th>\n",
       "      <td>1</td>\n",
       "      <td>2019.0</td>\n",
       "      <td>未通过</td>\n",
       "      <td>B</td>\n",
       "      <td>NaN</td>\n",
       "      <td>6.0</td>\n",
       "      <td>NaN</td>\n",
       "      <td>879</td>\n",
       "    </tr>\n",
       "    <tr>\n",
       "      <th>6</th>\n",
       "      <td>0</td>\n",
       "      <td>2016.0</td>\n",
       "      <td>未通过</td>\n",
       "      <td>C</td>\n",
       "      <td>A</td>\n",
       "      <td>8.0</td>\n",
       "      <td>5000.0</td>\n",
       "      <td>342</td>\n",
       "    </tr>\n",
       "    <tr>\n",
       "      <th>7</th>\n",
       "      <td>0</td>\n",
       "      <td>2019.0</td>\n",
       "      <td>NaN</td>\n",
       "      <td>C</td>\n",
       "      <td>B</td>\n",
       "      <td>8.0</td>\n",
       "      <td>1800.0</td>\n",
       "      <td>234</td>\n",
       "    </tr>\n",
       "    <tr>\n",
       "      <th>9</th>\n",
       "      <td>0</td>\n",
       "      <td>2019.0</td>\n",
       "      <td>通过</td>\n",
       "      <td>NaN</td>\n",
       "      <td>B</td>\n",
       "      <td>11.0</td>\n",
       "      <td>5000.0</td>\n",
       "      <td>246</td>\n",
       "    </tr>\n",
       "    <tr>\n",
       "      <th>10</th>\n",
       "      <td>0</td>\n",
       "      <td>NaN</td>\n",
       "      <td>通过</td>\n",
       "      <td>D</td>\n",
       "      <td>B</td>\n",
       "      <td>17.0</td>\n",
       "      <td>1000.0</td>\n",
       "      <td>754</td>\n",
       "    </tr>\n",
       "    <tr>\n",
       "      <th>11</th>\n",
       "      <td>0</td>\n",
       "      <td>2019.0</td>\n",
       "      <td>通过</td>\n",
       "      <td>D</td>\n",
       "      <td>NaN</td>\n",
       "      <td>14.0</td>\n",
       "      <td>1250.0</td>\n",
       "      <td>785</td>\n",
       "    </tr>\n",
       "    <tr>\n",
       "      <th>14</th>\n",
       "      <td>0</td>\n",
       "      <td>2017.0</td>\n",
       "      <td>通过</td>\n",
       "      <td>E</td>\n",
       "      <td>B</td>\n",
       "      <td>NaN</td>\n",
       "      <td>3200.0</td>\n",
       "      <td>546</td>\n",
       "    </tr>\n",
       "  </tbody>\n",
       "</table>\n",
       "</div>"
      ],
      "text/plain": [
       "    isdrop      年份 通过与否   分类  分类2    年龄      储蓄  KEY\n",
       "0        0  2019.0  未通过    A    A   6.0  1500.0  123\n",
       "2        0  2019.0  未通过    A    A  17.0  1150.0  124\n",
       "4        0  2017.0  未通过    B    A  14.0   534.4  567\n",
       "5        1  2019.0  未通过    B  NaN   6.0     NaN  879\n",
       "6        0  2016.0  未通过    C    A   8.0  5000.0  342\n",
       "7        0  2019.0  NaN    C    B   8.0  1800.0  234\n",
       "9        0  2019.0   通过  NaN    B  11.0  5000.0  246\n",
       "10       0     NaN   通过    D    B  17.0  1000.0  754\n",
       "11       0  2019.0   通过    D  NaN  14.0  1250.0  785\n",
       "14       0  2017.0   通过    E    B   NaN  3200.0  546"
      ]
     },
     "execution_count": 74,
     "metadata": {},
     "output_type": "execute_result"
    }
   ],
   "source": [
    "#按KEY去重\n",
    "datacln=data.drop_duplicates(\"KEY\")\n",
    "datacln"
   ]
  },
  {
   "cell_type": "code",
   "execution_count": 75,
   "metadata": {
    "scrolled": false
   },
   "outputs": [
    {
     "data": {
      "text/html": [
       "<div>\n",
       "<style scoped>\n",
       "    .dataframe tbody tr th:only-of-type {\n",
       "        vertical-align: middle;\n",
       "    }\n",
       "\n",
       "    .dataframe tbody tr th {\n",
       "        vertical-align: top;\n",
       "    }\n",
       "\n",
       "    .dataframe thead th {\n",
       "        text-align: right;\n",
       "    }\n",
       "</style>\n",
       "<table border=\"1\" class=\"dataframe\">\n",
       "  <thead>\n",
       "    <tr style=\"text-align: right;\">\n",
       "      <th></th>\n",
       "      <th>isdrop</th>\n",
       "      <th>年份</th>\n",
       "      <th>通过与否</th>\n",
       "      <th>分类</th>\n",
       "      <th>分类2</th>\n",
       "      <th>年龄</th>\n",
       "      <th>储蓄</th>\n",
       "      <th>KEY</th>\n",
       "    </tr>\n",
       "  </thead>\n",
       "  <tbody>\n",
       "    <tr>\n",
       "      <th>0</th>\n",
       "      <td>0</td>\n",
       "      <td>2019.0</td>\n",
       "      <td>未通过</td>\n",
       "      <td>A</td>\n",
       "      <td>A</td>\n",
       "      <td>6.0</td>\n",
       "      <td>1500.0</td>\n",
       "      <td>123</td>\n",
       "    </tr>\n",
       "    <tr>\n",
       "      <th>2</th>\n",
       "      <td>0</td>\n",
       "      <td>2019.0</td>\n",
       "      <td>未通过</td>\n",
       "      <td>A</td>\n",
       "      <td>A</td>\n",
       "      <td>17.0</td>\n",
       "      <td>1150.0</td>\n",
       "      <td>124</td>\n",
       "    </tr>\n",
       "    <tr>\n",
       "      <th>4</th>\n",
       "      <td>0</td>\n",
       "      <td>2017.0</td>\n",
       "      <td>未通过</td>\n",
       "      <td>B</td>\n",
       "      <td>A</td>\n",
       "      <td>14.0</td>\n",
       "      <td>534.4</td>\n",
       "      <td>567</td>\n",
       "    </tr>\n",
       "    <tr>\n",
       "      <th>6</th>\n",
       "      <td>0</td>\n",
       "      <td>2016.0</td>\n",
       "      <td>未通过</td>\n",
       "      <td>C</td>\n",
       "      <td>A</td>\n",
       "      <td>8.0</td>\n",
       "      <td>5000.0</td>\n",
       "      <td>342</td>\n",
       "    </tr>\n",
       "    <tr>\n",
       "      <th>12</th>\n",
       "      <td>0</td>\n",
       "      <td>2019.0</td>\n",
       "      <td>通过</td>\n",
       "      <td>D</td>\n",
       "      <td>B</td>\n",
       "      <td>10.0</td>\n",
       "      <td>1000.0</td>\n",
       "      <td>234</td>\n",
       "    </tr>\n",
       "    <tr>\n",
       "      <th>15</th>\n",
       "      <td>0</td>\n",
       "      <td>2019.0</td>\n",
       "      <td>通过</td>\n",
       "      <td>E</td>\n",
       "      <td>B</td>\n",
       "      <td>20.0</td>\n",
       "      <td>3437.0</td>\n",
       "      <td>342</td>\n",
       "    </tr>\n",
       "    <tr>\n",
       "      <th>16</th>\n",
       "      <td>0</td>\n",
       "      <td>2018.0</td>\n",
       "      <td>通过</td>\n",
       "      <td>E</td>\n",
       "      <td>B</td>\n",
       "      <td>13.0</td>\n",
       "      <td>1600.0</td>\n",
       "      <td>123</td>\n",
       "    </tr>\n",
       "    <tr>\n",
       "      <th>17</th>\n",
       "      <td>0</td>\n",
       "      <td>2019.0</td>\n",
       "      <td>通过</td>\n",
       "      <td>E</td>\n",
       "      <td>B</td>\n",
       "      <td>9.0</td>\n",
       "      <td>500.0</td>\n",
       "      <td>567</td>\n",
       "    </tr>\n",
       "  </tbody>\n",
       "</table>\n",
       "</div>"
      ],
      "text/plain": [
       "    isdrop      年份 通过与否 分类 分类2    年龄      储蓄  KEY\n",
       "0        0  2019.0  未通过  A   A   6.0  1500.0  123\n",
       "2        0  2019.0  未通过  A   A  17.0  1150.0  124\n",
       "4        0  2017.0  未通过  B   A  14.0   534.4  567\n",
       "6        0  2016.0  未通过  C   A   8.0  5000.0  342\n",
       "12       0  2019.0   通过  D   B  10.0  1000.0  234\n",
       "15       0  2019.0   通过  E   B  20.0  3437.0  342\n",
       "16       0  2018.0   通过  E   B  13.0  1600.0  123\n",
       "17       0  2019.0   通过  E   B   9.0   500.0  567"
      ]
     },
     "execution_count": 75,
     "metadata": {},
     "output_type": "execute_result"
    }
   ],
   "source": [
    "#去空\n",
    "datadropna=data.dropna()\n",
    "datadropna"
   ]
  },
  {
   "cell_type": "code",
   "execution_count": 76,
   "metadata": {},
   "outputs": [
    {
     "data": {
      "text/html": [
       "<div>\n",
       "<style scoped>\n",
       "    .dataframe tbody tr th:only-of-type {\n",
       "        vertical-align: middle;\n",
       "    }\n",
       "\n",
       "    .dataframe tbody tr th {\n",
       "        vertical-align: top;\n",
       "    }\n",
       "\n",
       "    .dataframe thead th {\n",
       "        text-align: right;\n",
       "    }\n",
       "</style>\n",
       "<table border=\"1\" class=\"dataframe\">\n",
       "  <thead>\n",
       "    <tr style=\"text-align: right;\">\n",
       "      <th></th>\n",
       "      <th>isdrop</th>\n",
       "      <th>年份</th>\n",
       "      <th>通过与否</th>\n",
       "      <th>分类</th>\n",
       "      <th>分类2</th>\n",
       "      <th>年龄</th>\n",
       "      <th>储蓄</th>\n",
       "      <th>KEY</th>\n",
       "    </tr>\n",
       "  </thead>\n",
       "  <tbody>\n",
       "    <tr>\n",
       "      <th>0</th>\n",
       "      <td>0</td>\n",
       "      <td>2019.0</td>\n",
       "      <td>未通过</td>\n",
       "      <td>A</td>\n",
       "      <td>A</td>\n",
       "      <td>6.0</td>\n",
       "      <td>1500.00</td>\n",
       "      <td>123</td>\n",
       "    </tr>\n",
       "    <tr>\n",
       "      <th>1</th>\n",
       "      <td>1</td>\n",
       "      <td>2017.0</td>\n",
       "      <td>未通过</td>\n",
       "      <td>A</td>\n",
       "      <td>0</td>\n",
       "      <td>3.0</td>\n",
       "      <td>0.00</td>\n",
       "      <td>123</td>\n",
       "    </tr>\n",
       "    <tr>\n",
       "      <th>2</th>\n",
       "      <td>0</td>\n",
       "      <td>2019.0</td>\n",
       "      <td>未通过</td>\n",
       "      <td>A</td>\n",
       "      <td>A</td>\n",
       "      <td>17.0</td>\n",
       "      <td>1150.00</td>\n",
       "      <td>124</td>\n",
       "    </tr>\n",
       "    <tr>\n",
       "      <th>3</th>\n",
       "      <td>0</td>\n",
       "      <td>2018.0</td>\n",
       "      <td>未通过</td>\n",
       "      <td>0</td>\n",
       "      <td>A</td>\n",
       "      <td>5.0</td>\n",
       "      <td>222.22</td>\n",
       "      <td>124</td>\n",
       "    </tr>\n",
       "    <tr>\n",
       "      <th>4</th>\n",
       "      <td>0</td>\n",
       "      <td>2017.0</td>\n",
       "      <td>未通过</td>\n",
       "      <td>B</td>\n",
       "      <td>A</td>\n",
       "      <td>14.0</td>\n",
       "      <td>534.40</td>\n",
       "      <td>567</td>\n",
       "    </tr>\n",
       "    <tr>\n",
       "      <th>5</th>\n",
       "      <td>1</td>\n",
       "      <td>2019.0</td>\n",
       "      <td>未通过</td>\n",
       "      <td>B</td>\n",
       "      <td>0</td>\n",
       "      <td>6.0</td>\n",
       "      <td>0.00</td>\n",
       "      <td>879</td>\n",
       "    </tr>\n",
       "    <tr>\n",
       "      <th>6</th>\n",
       "      <td>0</td>\n",
       "      <td>2016.0</td>\n",
       "      <td>未通过</td>\n",
       "      <td>C</td>\n",
       "      <td>A</td>\n",
       "      <td>8.0</td>\n",
       "      <td>5000.00</td>\n",
       "      <td>342</td>\n",
       "    </tr>\n",
       "    <tr>\n",
       "      <th>7</th>\n",
       "      <td>0</td>\n",
       "      <td>2019.0</td>\n",
       "      <td>0</td>\n",
       "      <td>C</td>\n",
       "      <td>B</td>\n",
       "      <td>8.0</td>\n",
       "      <td>1800.00</td>\n",
       "      <td>234</td>\n",
       "    </tr>\n",
       "    <tr>\n",
       "      <th>8</th>\n",
       "      <td>0</td>\n",
       "      <td>2016.0</td>\n",
       "      <td>未通过</td>\n",
       "      <td>C</td>\n",
       "      <td>B</td>\n",
       "      <td>21.0</td>\n",
       "      <td>0.00</td>\n",
       "      <td>123</td>\n",
       "    </tr>\n",
       "    <tr>\n",
       "      <th>9</th>\n",
       "      <td>0</td>\n",
       "      <td>2019.0</td>\n",
       "      <td>通过</td>\n",
       "      <td>0</td>\n",
       "      <td>B</td>\n",
       "      <td>11.0</td>\n",
       "      <td>5000.00</td>\n",
       "      <td>246</td>\n",
       "    </tr>\n",
       "    <tr>\n",
       "      <th>10</th>\n",
       "      <td>0</td>\n",
       "      <td>0.0</td>\n",
       "      <td>通过</td>\n",
       "      <td>D</td>\n",
       "      <td>B</td>\n",
       "      <td>17.0</td>\n",
       "      <td>1000.00</td>\n",
       "      <td>754</td>\n",
       "    </tr>\n",
       "    <tr>\n",
       "      <th>11</th>\n",
       "      <td>0</td>\n",
       "      <td>2019.0</td>\n",
       "      <td>通过</td>\n",
       "      <td>D</td>\n",
       "      <td>0</td>\n",
       "      <td>14.0</td>\n",
       "      <td>1250.00</td>\n",
       "      <td>785</td>\n",
       "    </tr>\n",
       "    <tr>\n",
       "      <th>12</th>\n",
       "      <td>0</td>\n",
       "      <td>2019.0</td>\n",
       "      <td>通过</td>\n",
       "      <td>D</td>\n",
       "      <td>B</td>\n",
       "      <td>10.0</td>\n",
       "      <td>1000.00</td>\n",
       "      <td>234</td>\n",
       "    </tr>\n",
       "    <tr>\n",
       "      <th>13</th>\n",
       "      <td>1</td>\n",
       "      <td>2019.0</td>\n",
       "      <td>通过</td>\n",
       "      <td>0</td>\n",
       "      <td>B</td>\n",
       "      <td>5.0</td>\n",
       "      <td>0.00</td>\n",
       "      <td>123</td>\n",
       "    </tr>\n",
       "    <tr>\n",
       "      <th>14</th>\n",
       "      <td>0</td>\n",
       "      <td>2017.0</td>\n",
       "      <td>通过</td>\n",
       "      <td>E</td>\n",
       "      <td>B</td>\n",
       "      <td>0.0</td>\n",
       "      <td>3200.00</td>\n",
       "      <td>546</td>\n",
       "    </tr>\n",
       "    <tr>\n",
       "      <th>15</th>\n",
       "      <td>0</td>\n",
       "      <td>2019.0</td>\n",
       "      <td>通过</td>\n",
       "      <td>E</td>\n",
       "      <td>B</td>\n",
       "      <td>20.0</td>\n",
       "      <td>3437.00</td>\n",
       "      <td>342</td>\n",
       "    </tr>\n",
       "    <tr>\n",
       "      <th>16</th>\n",
       "      <td>0</td>\n",
       "      <td>2018.0</td>\n",
       "      <td>通过</td>\n",
       "      <td>E</td>\n",
       "      <td>B</td>\n",
       "      <td>13.0</td>\n",
       "      <td>1600.00</td>\n",
       "      <td>123</td>\n",
       "    </tr>\n",
       "    <tr>\n",
       "      <th>17</th>\n",
       "      <td>0</td>\n",
       "      <td>2019.0</td>\n",
       "      <td>通过</td>\n",
       "      <td>E</td>\n",
       "      <td>B</td>\n",
       "      <td>9.0</td>\n",
       "      <td>500.00</td>\n",
       "      <td>567</td>\n",
       "    </tr>\n",
       "  </tbody>\n",
       "</table>\n",
       "</div>"
      ],
      "text/plain": [
       "    isdrop      年份 通过与否 分类 分类2    年龄       储蓄  KEY\n",
       "0        0  2019.0  未通过  A   A   6.0  1500.00  123\n",
       "1        1  2017.0  未通过  A   0   3.0     0.00  123\n",
       "2        0  2019.0  未通过  A   A  17.0  1150.00  124\n",
       "3        0  2018.0  未通过  0   A   5.0   222.22  124\n",
       "4        0  2017.0  未通过  B   A  14.0   534.40  567\n",
       "5        1  2019.0  未通过  B   0   6.0     0.00  879\n",
       "6        0  2016.0  未通过  C   A   8.0  5000.00  342\n",
       "7        0  2019.0    0  C   B   8.0  1800.00  234\n",
       "8        0  2016.0  未通过  C   B  21.0     0.00  123\n",
       "9        0  2019.0   通过  0   B  11.0  5000.00  246\n",
       "10       0     0.0   通过  D   B  17.0  1000.00  754\n",
       "11       0  2019.0   通过  D   0  14.0  1250.00  785\n",
       "12       0  2019.0   通过  D   B  10.0  1000.00  234\n",
       "13       1  2019.0   通过  0   B   5.0     0.00  123\n",
       "14       0  2017.0   通过  E   B   0.0  3200.00  546\n",
       "15       0  2019.0   通过  E   B  20.0  3437.00  342\n",
       "16       0  2018.0   通过  E   B  13.0  1600.00  123\n",
       "17       0  2019.0   通过  E   B   9.0   500.00  567"
      ]
     },
     "execution_count": 76,
     "metadata": {},
     "output_type": "execute_result"
    }
   ],
   "source": [
    "#填充空值(可以把0换成对应中位数、均值)\n",
    "datafillna=data.fillna(0)\n",
    "datafillna"
   ]
  },
  {
   "cell_type": "markdown",
   "metadata": {},
   "source": [
    "# 数据缩尾"
   ]
  },
  {
   "cell_type": "code",
   "execution_count": 95,
   "metadata": {},
   "outputs": [],
   "source": [
    "#x是列，a,b是想要进行切分的位置\n",
    "def cap(x,a,b):\n",
    "    qa=x.quantile(a)\n",
    "#     print(qa)\n",
    "    qb=x.quantile(b)\n",
    "#     print(qb)\n",
    "    for i in x:\n",
    "        if i <=qa :\n",
    "            x.replace(i,qa,inplace = True)\n",
    "        if i >=qb:\n",
    "            x.replace(i,qb,inplace = True)\n",
    "#     print(pd.DataFrame(x).describe())\n",
    "    return x"
   ]
  },
  {
   "cell_type": "code",
   "execution_count": 96,
   "metadata": {},
   "outputs": [],
   "source": [
    "data=pd.read_csv(\"data.csv\")"
   ]
  },
  {
   "cell_type": "code",
   "execution_count": 97,
   "metadata": {},
   "outputs": [
    {
     "name": "stdout",
     "output_type": "stream",
     "text": [
      "年份     2019.0\n",
      "年龄       21.0\n",
      "储蓄     5000.0\n",
      "KEY     879.0\n",
      "dtype: float64\n",
      "\n",
      "年份     2019.0\n",
      "年龄       18.2\n",
      "储蓄     4531.1\n",
      "KEY     763.3\n",
      "dtype: float64\n"
     ]
    }
   ],
   "source": [
    "#直接进行缩尾处理\n",
    "datacap=pd.DataFrame.copy(data)\n",
    "cols=datacap.describe().columns\n",
    "for cols in cols:\n",
    "    datacap.replace(datacap[cols],cap(datacap[cols],0.1,0.9),inplace=True)\n",
    "print(data.max(),datacap.max(),sep=\"\\n\\n\")"
   ]
  },
  {
   "cell_type": "code",
   "execution_count": 99,
   "metadata": {},
   "outputs": [
    {
     "name": "stdout",
     "output_type": "stream",
     "text": [
      "(18, 7)\n",
      "(9, 7)\n",
      "(8, 7)\n"
     ]
    }
   ],
   "source": [
    "#显示所有数据形状\n",
    "print(data.shape)\n",
    "#提取通过的数据\n",
    "datapass=pd.DataFrame.copy(data[data[\"通过与否\"]==\"通过\"])\n",
    "print(datapass.shape)\n",
    "#提取未通过的数据\n",
    "datafail=pd.DataFrame.copy(data[data[\"通过与否\"]==\"未通过\"])\n",
    "print(datafail.shape)\n",
    "#分组进行缩尾\n",
    "cols=datapass.describe().columns\n",
    "for cols in cols:\n",
    "    datapass.replace(datapass[cols],cap(datapass[cols],0.1,0.9),inplace=True)\n",
    "    datafail.replace(datafail[cols],cap(datafail[cols],0.1,0.9),inplace=True)"
   ]
  },
  {
   "cell_type": "markdown",
   "metadata": {},
   "source": [
    "# 数据分布"
   ]
  },
  {
   "cell_type": "code",
   "execution_count": 107,
   "metadata": {},
   "outputs": [
    {
     "data": {
      "text/plain": [
       "Index(['年份', '年龄', '储蓄', 'KEY'], dtype='object')"
      ]
     },
     "execution_count": 107,
     "metadata": {},
     "output_type": "execute_result"
    }
   ],
   "source": [
    "#找到数字相关的指标所在列\n",
    "data.describe().columns"
   ]
  },
  {
   "cell_type": "code",
   "execution_count": 111,
   "metadata": {
    "scrolled": true
   },
   "outputs": [
    {
     "data": {
      "image/png": "[encoded data removed]",
      "text/plain": [
       "<Figure size 432x288 with 1 Axes>"
      ]
     },
     "metadata": {},
     "output_type": "display_data"
    },
    {
     "data": {
      "image/png": "[encoded data removed]",
      "text/plain": [
       "<Figure size 432x288 with 1 Axes>"
      ]
     },
     "metadata": {},
     "output_type": "display_data"
    },
    {
     "data": {
      "image/png": "[encoded data removed]",
      "text/plain": [
       "<Figure size 432x288 with 1 Axes>"
      ]
     },
     "metadata": {},
     "output_type": "display_data"
    },
    {
     "data": {
      "image/png": "[encoded data removed]",
      "text/plain": [
       "<Figure size 432x288 with 1 Axes>"
      ]
     },
     "metadata": {},
     "output_type": "display_data"
    }
   ],
   "source": [
    "#查看数字分布，用直方图绘制，range可以通过quantile函数来排除极端点\n",
    "for columns in data.describe().columns:\n",
    "    plt.figure()\n",
    "    plt.title(columns)\n",
    "    plt.hist(data[columns],range=(data[columns].quantile(0.1),data[columns].quantile(0.9)),label=columns,alpha=0.7)\n",
    "    plt.legend()"
   ]
  },
  {
   "cell_type": "markdown",
   "metadata": {},
   "source": [
    "# 对比画图"
   ]
  },
  {
   "cell_type": "code",
   "execution_count": 118,
   "metadata": {
    "scrolled": false
   },
   "outputs": [
    {
     "data": {
      "image/png": "[encoded data removed]",
      "text/plain": [
       "<Figure size 432x288 with 1 Axes>"
      ]
     },
     "metadata": {},
     "output_type": "display_data"
    }
   ],
   "source": [
    "#分组画图\n",
    "#企业年龄\n",
    "for columns in [\"年龄\" ]:\n",
    "    plt.figure()\n",
    "#     plt.title(columns+\"分布\\n\",loc=\"center\",fontsize=18)\n",
    "    plt.hist(data[data[\"通过与否\"]==\"通过\"][columns],label=\"通过\",alpha=0.7)\n",
    "#     plt.figure()\n",
    "    plt.hist(data[data[\"通过与否\"]==\"未通过\"][columns],label=\"未通过\",alpha=0.7)\n",
    "    plt.legend()"
   ]
  },
  {
   "cell_type": "markdown",
   "metadata": {},
   "source": [
    "# 导出表格"
   ]
  },
  {
   "cell_type": "code",
   "execution_count": 112,
   "metadata": {
    "scrolled": true
   },
   "outputs": [],
   "source": [
    "data[[\"年份\",\"通过与否\"]].groupby(\"年份\").count().T.to_csv(\"按年汇总.csv\",encoding=\"gbk\")"
   ]
  },
  {
   "cell_type": "markdown",
   "metadata": {},
   "source": [
    "# 数据检验"
   ]
  },
  {
   "cell_type": "code",
   "execution_count": 113,
   "metadata": {
    "scrolled": true
   },
   "outputs": [],
   "source": [
    "#均值检验结果\n",
    "meantest=[]\n",
    "np.array(meantest)\n",
    "#中位数检验结果\n",
    "mediantest=[]\n",
    "np.array(mediantest)\n",
    "from scipy import stats as st\n",
    "#检验\n",
    "cols=[\"年龄\",\"储蓄\"]\n",
    "for cols in cols:\n",
    "    meantest.append\n",
    "    t,p=st.ttest_ind(datapass[cols].dropna(),datafail[cols].dropna())[0:2]\n",
    "    meantest.append([cols,t,p])\n",
    "    t,p=st.median_test(datapass[cols].dropna(),datafail[cols].dropna())[0:2]\n",
    "    mediantest.append([cols,t,p])"
   ]
  },
  {
   "cell_type": "code",
   "execution_count": 114,
   "metadata": {},
   "outputs": [
    {
     "name": "stdout",
     "output_type": "stream",
     "text": [
      "[['年龄', 1.104911090660519, 0.28782591726173323], ['储蓄', 0.8296647392224226, 0.4243676439267027]]\n",
      "[['年龄', 0.25, 0.6170750774519739], ['储蓄', 0.04836309523809534, 0.8259364898221998]]\n"
     ]
    }
   ],
   "source": [
    "#显示结果\n",
    "print(meantest)\n",
    "print(mediantest)\n",
    "#python均值检验与中位数检验,P值小于0.05显著，说明两组数据均值与中位数存在差异\n",
    "#导出结果\n",
    "pd.DataFrame(meantest).to_csv(\"meantest.csv\",encoding=\"gbk\")\n",
    "pd.DataFrame(mediantest).to_csv(\"mediantest.csv\",encoding=\"gbk\")   "
   ]
  },
  {
   "cell_type": "code",
   "execution_count": 115,
   "metadata": {},
   "outputs": [
    {
     "data": {
      "text/html": [
       "<div>\n",
       "<style scoped>\n",
       "    .dataframe tbody tr th:only-of-type {\n",
       "        vertical-align: middle;\n",
       "    }\n",
       "\n",
       "    .dataframe tbody tr th {\n",
       "        vertical-align: top;\n",
       "    }\n",
       "\n",
       "    .dataframe thead th {\n",
       "        text-align: right;\n",
       "    }\n",
       "</style>\n",
       "<table border=\"1\" class=\"dataframe\">\n",
       "  <thead>\n",
       "    <tr style=\"text-align: right;\">\n",
       "      <th></th>\n",
       "      <th>年龄</th>\n",
       "      <th>储蓄</th>\n",
       "    </tr>\n",
       "    <tr>\n",
       "      <th>通过与否</th>\n",
       "      <th></th>\n",
       "      <th></th>\n",
       "    </tr>\n",
       "  </thead>\n",
       "  <tbody>\n",
       "    <tr>\n",
       "      <th>未通过</th>\n",
       "      <td>10.000</td>\n",
       "      <td>1681.324</td>\n",
       "    </tr>\n",
       "    <tr>\n",
       "      <th>通过</th>\n",
       "      <td>12.375</td>\n",
       "      <td>2123.375</td>\n",
       "    </tr>\n",
       "  </tbody>\n",
       "</table>\n",
       "</div>"
      ],
      "text/plain": [
       "          年龄        储蓄\n",
       "通过与否                  \n",
       "未通过   10.000  1681.324\n",
       "通过    12.375  2123.375"
      ]
     },
     "execution_count": 115,
     "metadata": {},
     "output_type": "execute_result"
    }
   ],
   "source": [
    "data[[\"通过与否\",\"年龄\",\"储蓄\"]].groupby(\"通过与否\").mean()"
   ]
  },
  {
   "cell_type": "markdown",
   "metadata": {},
   "source": [
    "# 区间统计"
   ]
  },
  {
   "cell_type": "code",
   "execution_count": 60,
   "metadata": {},
   "outputs": [
    {
     "name": "stdout",
     "output_type": "stream",
     "text": [
      "[(2.982, 9.0], (2.982, 9.0], (15.0, 21.0], (2.982, 9.0], (9.0, 15.0], ..., (2.982, 9.0], NaN, (15.0, 21.0], (9.0, 15.0], (2.982, 9.0]]\n",
      "Length: 18\n",
      "Categories (3, interval[float64]): [(2.982, 9.0] < (9.0, 15.0] < (15.0, 21.0]]\n",
      "[(5, 10], (0, 5], (15, 20], (0, 5], (10, 15], ..., (0.0, 5.0], NaN, (15.0, 20.0], (10.0, 15.0], (5.0, 10.0]]\n",
      "Length: 18\n",
      "Categories (5, interval[int64]): [(0, 5] < (5, 10] < (10, 15] < (15, 20] < (20, 25]]\n"
     ]
    }
   ],
   "source": [
    "# 区间统计\n",
    "classdata=data[\"年龄\"]\n",
    "classdata=np.array(classdata)\n",
    "a=pd.cut(classdata,3)\n",
    "b=pd.cut(classdata,[0,5,10,15,20,25])\n",
    "print(a)\n",
    "print(b)\n",
    "pd.DataFrame(a).to_csv(\"classa.csv\")\n",
    "pd.DataFrame(b).to_csv(\"classb.csv\")"
   ]
  }
 ],
 "metadata": {
  "kernelspec": {
   "display_name": "Python 3",
   "language": "python",
   "name": "python3"
  },
  "language_info": {
   "codemirror_mode": {
    "name": "ipython",
    "version": 3
   },
   "file_extension": ".py",
   "mimetype": "text/x-python",
   "name": "python",
   "nbconvert_exporter": "python",
   "pygments_lexer": "ipython3",
   "version": "3.7.4"
  },
  "toc": {
   "base_numbering": 1,
   "nav_menu": {},
   "number_sections": true,
   "sideBar": true,
   "skip_h1_title": false,
   "title_cell": "Table of Contents",
   "title_sidebar": "Contents",
   "toc_cell": false,
   "toc_position": {
    "height": "calc(100% - 180px)",
    "left": "10px",
    "top": "150px",
    "width": "250.236px"
   },
   "toc_section_display": true,
   "toc_window_display": true
  }
 },
 "nbformat": 4,
 "nbformat_minor": 2
}
